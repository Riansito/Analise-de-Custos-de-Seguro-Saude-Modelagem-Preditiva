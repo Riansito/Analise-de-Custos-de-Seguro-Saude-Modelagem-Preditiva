{
 "cells": [
  {
   "cell_type": "code",
   "execution_count": 1,
   "id": "45e80d9b",
   "metadata": {},
   "outputs": [],
   "source": [
    "#Modelos que serão testados para o projeto\n",
    "from sklearn.linear_model import LinearRegression\n",
    "from sklearn.linear_model import Ridge\n",
    "from sklearn.linear_model import Lasso\n",
    "from sklearn.ensemble import RandomForestRegressor\n",
    "from xgboost import XGBRegressor\n",
    "\n",
    "#Valiação dos parametros do modelo escolhido\n",
    "from sklearn.model_selection import RandomizedSearchCV\n",
    "\n",
    "#Serve para das os splits dos dados na validação\n",
    "from sklearn.model_selection import KFold\n",
    "\n",
    "#Separa a base de dados em treino e testes\n",
    "from sklearn.model_selection import train_test_split\n",
    "\n",
    "#Metricas para a avaliação do modelo\n",
    "from sklearn.metrics import mean_squared_error, mean_absolute_error, r2_score\n",
    "\n",
    "#Manipulação dos dados\n",
    "import pandas as pd\n",
    "import numpy as np\n",
    "\n",
    "#Visualização  de dados\n",
    "import seaborn as sns\n",
    "import matplotlib.pyplot as plt \n",
    "\n",
    "#Avaliação de features\n",
    "import statsmodels.api as sm"
   ]
  },
  {
   "cell_type": "code",
   "execution_count": 2,
   "id": "be162d3a",
   "metadata": {},
   "outputs": [
    {
     "data": {
      "text/html": [
       "<div>\n",
       "<style scoped>\n",
       "    .dataframe tbody tr th:only-of-type {\n",
       "        vertical-align: middle;\n",
       "    }\n",
       "\n",
       "    .dataframe tbody tr th {\n",
       "        vertical-align: top;\n",
       "    }\n",
       "\n",
       "    .dataframe thead th {\n",
       "        text-align: right;\n",
       "    }\n",
       "</style>\n",
       "<table border=\"1\" class=\"dataframe\">\n",
       "  <thead>\n",
       "    <tr style=\"text-align: right;\">\n",
       "      <th></th>\n",
       "      <th>age</th>\n",
       "      <th>bmi</th>\n",
       "      <th>children</th>\n",
       "      <th>charges</th>\n",
       "      <th>sex_male</th>\n",
       "      <th>smoker_yes</th>\n",
       "      <th>region_northwest</th>\n",
       "      <th>region_southeast</th>\n",
       "      <th>region_southwest</th>\n",
       "    </tr>\n",
       "  </thead>\n",
       "  <tbody>\n",
       "    <tr>\n",
       "      <th>0</th>\n",
       "      <td>19</td>\n",
       "      <td>27.900</td>\n",
       "      <td>0</td>\n",
       "      <td>16884.92400</td>\n",
       "      <td>False</td>\n",
       "      <td>True</td>\n",
       "      <td>False</td>\n",
       "      <td>False</td>\n",
       "      <td>True</td>\n",
       "    </tr>\n",
       "    <tr>\n",
       "      <th>1</th>\n",
       "      <td>18</td>\n",
       "      <td>33.770</td>\n",
       "      <td>1</td>\n",
       "      <td>1725.55230</td>\n",
       "      <td>True</td>\n",
       "      <td>False</td>\n",
       "      <td>False</td>\n",
       "      <td>True</td>\n",
       "      <td>False</td>\n",
       "    </tr>\n",
       "    <tr>\n",
       "      <th>2</th>\n",
       "      <td>28</td>\n",
       "      <td>33.000</td>\n",
       "      <td>3</td>\n",
       "      <td>4449.46200</td>\n",
       "      <td>True</td>\n",
       "      <td>False</td>\n",
       "      <td>False</td>\n",
       "      <td>True</td>\n",
       "      <td>False</td>\n",
       "    </tr>\n",
       "    <tr>\n",
       "      <th>3</th>\n",
       "      <td>33</td>\n",
       "      <td>22.705</td>\n",
       "      <td>0</td>\n",
       "      <td>21984.47061</td>\n",
       "      <td>True</td>\n",
       "      <td>False</td>\n",
       "      <td>True</td>\n",
       "      <td>False</td>\n",
       "      <td>False</td>\n",
       "    </tr>\n",
       "    <tr>\n",
       "      <th>4</th>\n",
       "      <td>32</td>\n",
       "      <td>28.880</td>\n",
       "      <td>0</td>\n",
       "      <td>3866.85520</td>\n",
       "      <td>True</td>\n",
       "      <td>False</td>\n",
       "      <td>True</td>\n",
       "      <td>False</td>\n",
       "      <td>False</td>\n",
       "    </tr>\n",
       "  </tbody>\n",
       "</table>\n",
       "</div>"
      ],
      "text/plain": [
       "   age     bmi  children      charges  sex_male  smoker_yes  region_northwest  \\\n",
       "0   19  27.900         0  16884.92400     False        True             False   \n",
       "1   18  33.770         1   1725.55230      True       False             False   \n",
       "2   28  33.000         3   4449.46200      True       False             False   \n",
       "3   33  22.705         0  21984.47061      True       False              True   \n",
       "4   32  28.880         0   3866.85520      True       False              True   \n",
       "\n",
       "   region_southeast  region_southwest  \n",
       "0             False              True  \n",
       "1              True             False  \n",
       "2              True             False  \n",
       "3             False             False  \n",
       "4             False             False  "
      ]
     },
     "execution_count": 2,
     "metadata": {},
     "output_type": "execute_result"
    }
   ],
   "source": [
    "df = pd.read_csv(\"../Dados/Base de Dados Tratada (insurance).csv\", index_col=0)#Lendo base de dados tratada\n",
    "df.head()"
   ]
  },
  {
   "cell_type": "markdown",
   "id": "994dffe5",
   "metadata": {},
   "source": [
    "Após leitura dos dados, eu vou analisar quais das features tem as maiores influências com a a target(chargeLog), mas primeiro irei separar as variaveis em treino e teste."
   ]
  },
  {
   "cell_type": "code",
   "execution_count": 4,
   "id": "211ae600",
   "metadata": {},
   "outputs": [],
   "source": [
    "X=df.drop([\"charges\"], axis=1)\n",
    "y=df[\"charges\"]\n",
    "X_train, X_test, y_train, y_test = train_test_split(X, y, test_size=0.2, random_state=42)#Separando os dados em treino e teste\n"
   ]
  },
  {
   "cell_type": "markdown",
   "id": "312212ff",
   "metadata": {},
   "source": [
    "Feito a separação dos dados, vamos partir para a avaliação dos modelos e qual irá se sair melhor."
   ]
  },
  {
   "cell_type": "code",
   "execution_count": 5,
   "id": "928bf285",
   "metadata": {},
   "outputs": [],
   "source": [
    "def avaliaModelo(y_true, y_pred):\n",
    "    metrics = {\n",
    "        'MSE': mean_squared_error(y_true, y_pred),\n",
    "        'RMSE': np.sqrt(mean_squared_error(y_true, y_pred)),\n",
    "        'MAE': mean_absolute_error(y_true, y_pred),\n",
    "        'R²': r2_score(y_true, y_pred),\n",
    "        'Adjusted R²': 1 - (1-r2_score(y_true, y_pred))*(len(y_true)-1)/(len(y_true)-X.shape[1]-1)\n",
    "    }\n",
    "    return metrics\n",
    "\n",
    "def testaModeloRegreção(X, y, modelo):\n",
    "    X_train, X_test, y_train, y_test = train_test_split(X, y, test_size=0.2, random_state=42)\n",
    "    modelo = modelo()\n",
    "    modelo.fit(X_train, y_train)\n",
    "    y_pred = modelo.predict(X_test)\n",
    "    metricas = avaliaModelo(y_test, y_pred)\n",
    "    print(modelo)\n",
    "    for name, value in metricas.items():\n",
    "        print(f\"{name}: {value:.4f}\")"
   ]
  },
  {
   "cell_type": "code",
   "execution_count": 6,
   "id": "ba644ec5",
   "metadata": {},
   "outputs": [
    {
     "name": "stdout",
     "output_type": "stream",
     "text": [
      "Lasso()\n",
      "MSE: 43657562.7214\n",
      "RMSE: 6607.3870\n",
      "MAE: 4474.0035\n",
      "R²: 0.7264\n",
      "Adjusted R²: 0.7157\n",
      "LinearRegression()\n",
      "MSE: 43655859.8829\n",
      "RMSE: 6607.2581\n",
      "MAE: 4473.4048\n",
      "R²: 0.7264\n",
      "Adjusted R²: 0.7157\n",
      "Ridge()\n",
      "MSE: 43690686.4767\n",
      "RMSE: 6609.8931\n",
      "MAE: 4489.2399\n",
      "R²: 0.7262\n",
      "Adjusted R²: 0.7155\n",
      "RandomForestRegressor()\n",
      "MSE: 31013711.3158\n",
      "RMSE: 5568.9955\n",
      "MAE: 2859.2407\n",
      "R²: 0.8056\n",
      "Adjusted R²: 0.7980\n",
      "XGBRegressor(base_score=None, booster=None, callbacks=None,\n",
      "             colsample_bylevel=None, colsample_bynode=None,\n",
      "             colsample_bytree=None, device=None, early_stopping_rounds=None,\n",
      "             enable_categorical=False, eval_metric=None, feature_types=None,\n",
      "             feature_weights=None, gamma=None, grow_policy=None,\n",
      "             importance_type=None, interaction_constraints=None,\n",
      "             learning_rate=None, max_bin=None, max_cat_threshold=None,\n",
      "             max_cat_to_onehot=None, max_delta_step=None, max_depth=None,\n",
      "             max_leaves=None, min_child_weight=None, missing=nan,\n",
      "             monotone_constraints=None, multi_strategy=None, n_estimators=None,\n",
      "             n_jobs=None, num_parallel_tree=None, ...)\n",
      "MSE: 36156413.4148\n",
      "RMSE: 6013.0203\n",
      "MAE: 3267.7067\n",
      "R²: 0.7734\n",
      "Adjusted R²: 0.7645\n"
     ]
    }
   ],
   "source": [
    "X_train = X_train[[\"children\", \"age\", \"smoker_yes\", \"bmi\"]]\n",
    "testaModeloRegreção(X_train, y_train, Lasso)\n",
    "testaModeloRegreção(X_train, y_train, LinearRegression)\n",
    "testaModeloRegreção(X_train, y_train, Ridge)\n",
    "testaModeloRegreção(X_train, y_train,RandomForestRegressor)\n",
    "testaModeloRegreção(X_train, y_train,XGBRegressor)"
   ]
  },
  {
   "cell_type": "markdown",
   "id": "74ac4c6f",
   "metadata": {},
   "source": [
    "Após a análise dos reultados, nota-se que o RandomFerestRegressor se saiu melhor, então vou continuar com ele até o final. Vamos passar para o teste dos hiper parametros! Irei utilizar o RandomizedSeachCV pois o custo computacional com é melhor!"
   ]
  },
  {
   "cell_type": "code",
   "execution_count": 7,
   "id": "4bc423ef",
   "metadata": {},
   "outputs": [
    {
     "name": "stdout",
     "output_type": "stream",
     "text": [
      "Fitting 5 folds for each of 50 candidates, totalling 250 fits\n",
      "Melhores parâmetros: {'n_estimators': 350, 'min_samples_split': 4, 'min_samples_leaf': 3, 'max_features': 0.8, 'max_depth': 5, 'bootstrap': True}\n",
      "Melhor MAE: 2549.3854555741846\n"
     ]
    }
   ],
   "source": [
    "\n",
    "\n",
    "# Espaço de parâmetros para busca\n",
    "param_dist = {\n",
    "    'n_estimators': np.arange(100, 500, 50),\n",
    "    'max_depth': [None] + list(np.arange(5, 30, 5)),\n",
    "    'min_samples_split': np.arange(2, 10),\n",
    "    'min_samples_leaf': np.arange(1, 5),\n",
    "    'max_features': ['sqrt', 'log2', 0.8, None],\n",
    "    'bootstrap': [True, False]\n",
    "}\n",
    "\n",
    "rf = RandomForestRegressor(random_state=42, n_jobs=-1)\n",
    "kf = KFold(n_splits=5, shuffle=True, random_state=42)\n",
    "\n",
    "# RandomSearch com validação cruzada\n",
    "rf_random = RandomizedSearchCV(\n",
    "    estimator=rf, #O modelo que irá ser usado\n",
    "    param_distributions=param_dist, #os parametros que serão testados\n",
    "    n_iter=50, #Numeros de combinações que vão ser testadas \n",
    "    cv=kf, #Como os dados serão divididos\n",
    "    scoring='neg_mean_absolute_error', #a metrtica que será avaliada\n",
    "    verbose=2, #Detakhes\n",
    "    random_state=42,\n",
    "    n_jobs=-1 #Controla o paralelismo da execução\n",
    ")\n",
    "\n",
    "rf_random.fit(X_train, y_train)\n",
    "\n",
    "# Melhores parâmetros\n",
    "print(\"Melhores parâmetros:\", rf_random.best_params_)\n",
    "print(\"Melhor MAE:\", -rf_random.best_score_)"
   ]
  },
  {
   "cell_type": "markdown",
   "id": "7e824a5c",
   "metadata": {},
   "source": [
    "Com a analise do MAE(Erro Médio Absoluto) percebe-se que houve uma redução significativa entre a baseline(24.84) para 20.74, o que mostra uma redução nos erros no modelo. Agora para finalizar, vou analisar a eficiência do meu modelo com dados que ele nunca viu, isso vai coclocar ele aprova e vermos se vai se sair bem!"
   ]
  },
  {
   "cell_type": "code",
   "execution_count": 8,
   "id": "98292dd7",
   "metadata": {},
   "outputs": [
    {
     "name": "stdout",
     "output_type": "stream",
     "text": [
      "MÉTRICAS DO MODELO COM OS DADOS DE TESTE\n",
      "MAE no conjunto de teste: 246747.55%\n",
      "R2 no conjunto de teste: 87.84%\n",
      "RSME no conjunto de teste: 434550.44%\n",
      "-=-=-=-=-=-=-=-=-=-=-=-=-=-=-=-=-=-=-=-=\n",
      "COMPARAÇÃO COM O MODELO SEM HIPER PARÂMETROS\n",
      "MAE: Melhoria sobre o modelo padrão: -993247.6%\n",
      "R2: Melhoria sobre o modelo padrão: 23.2%\n",
      "RSME: Melhoria sobre o modelo padrão: -878667.3%\n"
     ]
    }
   ],
   "source": [
    "# Modelo com melhores parâmetros\n",
    "melhorModelo = rf_random.best_estimator_\n",
    "\n",
    "# Avaliação no teste\n",
    "y_pred = melhorModelo.predict(X_test[[\"children\", \"age\", \"smoker_yes\", \"bmi\"]])\n",
    "maeTest = mean_absolute_error(y_test, y_pred)\n",
    "r2Test = r2_score(y_test, y_pred)\n",
    "rsmeTest = np.sqrt(mean_squared_error(y_test, y_pred))\n",
    "#Metrica no conjunto de teste\n",
    "print(\"MÉTRICAS DO MODELO COM OS DADOS DE TESTE\")\n",
    "print(f\"MAE no conjunto de teste: {maeTest*100:.2f}%\")\n",
    "print(f\"R2 no conjunto de teste: {r2Test*100:.2f}%\")\n",
    "print(f\"RSME no conjunto de teste: {rsmeTest*100:.2f}%\")\n",
    "print(\"-=\"*20)\n",
    "\n",
    "# Comparação com baseline\n",
    "print(\"COMPARAÇÃO COM O MODELO SEM HIPER PARÂMETROS\")\n",
    "print(f\"MAE: Melhoria sobre o modelo padrão: {(0.2484 - maeTest)/0.2484*100:.1f}%\")\n",
    "print(f\"R2: Melhoria sobre o modelo padrão: {(r2Test - 0.7132)/0.7132*100:.1f}%\")\n",
    "print(f\"RSME: Melhoria sobre o modelo padrão: {(0.4945 - rsmeTest)/0.4945*100:.1f}%\")"
   ]
  },
  {
   "cell_type": "markdown",
   "id": "38106020",
   "metadata": {},
   "source": [
    "O modelo ajustado com hiperparâmetros obteve resultados bastante expressivos no conjunto de dados de teste. Abaixo estão as principais métricas alcançadas, com suas interpretações:\n",
    "\n",
    "1. **MAE (Mean Absolute Error)**: O modelo apresentou um MAE de 19,65%, o que significa que, em média, as previsões do modelo estão erradas em 19,65% em relação ao valor real. Essa métrica indica o nível de precisão geral do modelo, sendo especialmente útil para avaliar os erros absolutos médios sem dar peso desproporcional a grandes desvios.\n",
    "\n",
    "2. **R² (Coeficiente de Determinação)**: O modelo obteve um R² de 85,86%, indicando que ele consegue explicar 85,86% da variância dos dados no conjunto de teste. Esse é um resultado muito positivo e mostra que o modelo captura bem as relações entre as variáveis preditoras e a variável-alvo.\n",
    "\n",
    "3. **RMSE (Root Mean Squared Error)**: Com um RMSE de 35,65%, o modelo teve um erro médio quadrático raiz relativamente baixo, o que reforça sua capacidade de fazer previsões precisas e minimiza a influência de grandes erros pontuais.\n",
    "\n",
    "Além disso, ao comparar esse modelo com o modelo padrão (sem ajuste de hiperparâmetros), observamos melhorias significativas:\n",
    "- **MAE**: Redução de 20,9% no erro absoluto médio.\n",
    "- **R²**: Aumento de 20,4% na explicação da variância.\n",
    "- **RMSE**: Redução de 27,9% no erro médio quadrático raiz.\n",
    "\n",
    "Esses resultados evidenciam que o ajuste dos hiperparâmetros foi bem-sucedido, otimizando o desempenho geral do modelo.\n",
    "\n",
    "Por fim, as variáveis mais influentes no modelo ajustado também serão analisadas para identificar quais características mais impactam as previsões do modelo e ajudar a interpretar os resultados em termos de decisão prática."
   ]
  },
  {
   "cell_type": "code",
   "execution_count": 9,
   "id": "5ee705a0",
   "metadata": {},
   "outputs": [
    {
     "data": {
      "text/plain": [
       "Text(0.5, 1.0, 'Importância das Variáveis no Modelo (Cores por Influência)')"
      ]
     },
     "execution_count": 9,
     "metadata": {},
     "output_type": "execute_result"
    },
    {
     "data": {
      "image/png": "[encoded data removed]",
      "text/plain": [
       "<Figure size 1000x600 with 1 Axes>"
      ]
     },
     "metadata": {},
     "output_type": "display_data"
    }
   ],
   "source": [
    "\n",
    "\n",
    "#Criando uma base de dados com os valores de influencia por coluna\n",
    "colunasQueInfluenciamNaDecisão = {\n",
    "    \"Colunas\" : X_train.columns,\n",
    "    \"Influencia\" : melhorModelo.feature_importances_\n",
    "}\n",
    "colunasQueInfluenciamNaDecisão = pd.DataFrame(colunasQueInfluenciamNaDecisão)\n",
    "ordenadoPorColunasQueInfluenciamNaDecisão = colunasQueInfluenciamNaDecisão.sort_values(by = \"Influencia\", ascending=False)\n",
    "\n",
    "\n",
    "influencias = ordenadoPorColunasQueInfluenciamNaDecisão[\"Influencia\"] / ordenadoPorColunasQueInfluenciamNaDecisão[\"Influencia\"].max()\n",
    "\n",
    "# Criar um gradiente de cores (quanto maior a importância, mais escura a barra)\n",
    "colors = plt.cm.Blues(influencias)  # Usando o colormap 'Blues'\n",
    "\n",
    "# Plotar o gráfico de barras com cores baseadas na importância\n",
    "plt.figure(figsize=(10, 6))\n",
    "bars = plt.bar(ordenadoPorColunasQueInfluenciamNaDecisão[\"Colunas\"], ordenadoPorColunasQueInfluenciamNaDecisão[\"Influencia\"] , color=colors)\n",
    "plt.xticks(range(len(ordenadoPorColunasQueInfluenciamNaDecisão[\"Colunas\"])), ordenadoPorColunasQueInfluenciamNaDecisão[\"Colunas\"].values, rotation=90)\n",
    "plt.xlabel('Variáveis')\n",
    "plt.ylabel('Importância')\n",
    "plt.title('Importância das Variáveis no Modelo (Cores por Influência)')"
   ]
  },
  {
   "cell_type": "markdown",
   "id": "e89636bb",
   "metadata": {},
   "source": [
    "Com base na análise apresentada no gráfico, observa-se que as variáveis **\"smoker_yes\"** (indicando se o paciente é fumante) e **\"age\"** (idade) possuem maior influência nos custos dos seguros médicos. Essas duas variáveis se destacam significativamente em relação às demais, como **\"bmi\"** (índice de massa corporal) e **\"children\"** (número de filhos), que apresentam influência muito menor.\n",
    "\n",
    "Dessa forma, o modelo desenvolvido para prever os gastos médicos dos pacientes identifica **o tabagismo e a idade como os principais fatores determinantes** para os custos. Essas variáveis devem, portanto, ser priorizadas nas análises e recomendações relacionadas à precificação ou políticas de prevenção em saúde.\n",
    "\n",
    "## Análise com Dados Originais (Validação Complementar)\n",
    "\n",
    "Para garantir a robustez dos resultados e permitir uma interpretação direta em valores monetários, complementamos nossa análise testando o modelo nos dados originais (sem transformação logarítmica). Esta abordagem visa:\n",
    "\n",
    "✓ **Traduzir métricas** para valores absolutos (R$) com significado prático imediato  \n",
    "✓ **Validar a consistência** das relações identificadas (tabagismo e idade como drivers principais)  \n",
    "✓ **Comparar desempenho** entre abordagens transformadas e não transformadas  \n",
    "\n",
    "### Metodologia\n",
    "\n",
    "- **Modelo utilizado**: RandomForestRegressor com os mesmos hiperparâmetros otimizados  \n",
    "- **Métricas calculadas**:\n",
    "  - `MAE` (Erro Absoluto Médio em R$)  \n",
    "  - `RMSE` (Raiz do Erro Quadrático Médio em R$)  \n",
    "  - `R²` (Coeficiente de Determinação)  \n",
    "\n"
   ]
  },
  {
   "cell_type": "code",
   "execution_count": 12,
   "id": "09cd28a4",
   "metadata": {},
   "outputs": [
    {
     "name": "stdout",
     "output_type": "stream",
     "text": [
      "MAE: R$ 2467.48 (31.98%)\n",
      "R²: 87.8367%\n",
      "RMSE na escala original: R$ 4.345,50\n"
     ]
    }
   ],
   "source": [
    "from sklearn.metrics import mean_absolute_percentage_error\n",
    "def avaliacaoDeEscalaOriginal(y_true_orig, y_pred_orig):\n",
    "\n",
    "    mae = mean_absolute_error(y_true_orig, y_pred_orig)\n",
    "    mape = mean_absolute_percentage_error(y_true_orig, y_pred_orig) * 100\n",
    "    r2 = r2_score(y_true_orig, y_pred_orig)\n",
    "    rmse =np.sqrt(mean_squared_error(y_true_orig, y_pred_orig))\n",
    "    \n",
    "    print(f\"MAE: R$ {mae:.2f} ({mape:.2f}%)\")\n",
    "    print(f\"R²: {r2*100:.4f}%\")\n",
    "    print(f\"RMSE na escala original: R$ {rmse:,.2f}\".replace(\",\", \"X\").replace(\".\", \",\").replace(\"X\", \".\"))\n",
    "\n",
    "\n",
    "avaliacaoDeEscalaOriginal(y_test, y_pred)"
   ]
  },
  {
   "cell_type": "code",
   "execution_count": null,
   "id": "c007b8d3",
   "metadata": {},
   "outputs": [
    {
     "name": "stdout",
     "output_type": "stream",
     "text": [
      "\n",
      "============================================================\n",
      "        AVALIAÇÃO DO MODELO NA ESCALA ORIGINAL (R$)         \n",
      "============================================================\n",
      "• MAE (Erro Absoluto Médio):       R$ 1.973,79 (18,05%)\n",
      "• RMSE (Raiz do Erro Quadrático):  R$ 4.335,85 (33,43%)\n",
      "• R² (Poder Explicativo):          87.89%\n",
      "• Custo Médio de Referência:       R$ 12.968,32\n",
      "============================================================\n"
     ]
    }
   ],
   "source": [
    "def avaliacaoDeEscalaOriginal(y_true_log, y_pred_log):\n",
    "    # Conversão para escala original\n",
    "    y_true_orig = np.exp(y_true_log)\n",
    "    y_pred_orig = np.exp(y_pred_log)\n",
    "    \n",
    "    # Cálculo das métricas\n",
    "    metrics = {\n",
    "        'MAE_R$': mean_absolute_error(y_true_orig, y_pred_orig),\n",
    "        'MAE_%': mean_absolute_percentage_error(y_true_orig, y_pred_orig) * 100,\n",
    "        'R2_%': r2_score(y_true_orig, y_pred_orig) * 100,\n",
    "        'RMSE_R$': np.sqrt(mean_squared_error(y_true_orig, y_pred_orig)),\n",
    "        'Custo_Médio_R$': np.mean(y_true_orig)\n",
    "    }\n",
    "    \n",
    "    # Cálculo adicional de comparação\n",
    "    metrics['RMSE_%'] = (metrics['RMSE_R$'] / metrics['Custo_Médio_R$']) * 100\n",
    "    \n",
    "    # Formatação de impressão profissional\n",
    "    print(\"\\n\" + \"=\"*60)\n",
    "    print(\"AVALIAÇÃO DO MODELO NA ESCALA ORIGINAL (R$)\".center(60))\n",
    "    print(\"=\"*60)\n",
    "    print(f\"• MAE (Erro Absoluto Médio):       R$ {metrics['MAE_R$']:,.2f} ({metrics['MAE_%']:.2f}%)\".replace(\",\", \"X\").replace(\".\", \",\").replace(\"X\", \".\"))\n",
    "    print(f\"• RMSE (Raiz do Erro Quadrático):  R$ {metrics['RMSE_R$']:,.2f} ({metrics['RMSE_%']:.2f}%)\".replace(\",\", \"X\").replace(\".\", \",\").replace(\"X\", \".\"))\n",
    "    print(f\"• R² (Poder Explicativo):          {metrics['R2_%']:.2f}%\")\n",
    "    print(f\"• Custo Médio de Referência:       R$ {metrics['Custo_Médio_R$']:,.2f}\".replace(\",\", \"X\").replace(\".\", \",\").replace(\"X\", \".\"))\n",
    "    print(\"=\"*60)\n",
    "\n",
    "# Exemplo de uso:\n",
    "avaliacaoDeEscalaOriginal(y_test, y_pred, )"
   ]
  },
  {
   "cell_type": "markdown",
   "id": "99bcc849",
   "metadata": {},
   "source": [
    "### **Análise de Trade-offs no Modelo de Custos Médicos**  \n",
    "\n",
    "#### **📌 Contexto do Projeto**  \n",
    "Desenvolvi um modelo de previsão de custos médicos usando **RandomForestRegressor** com uma base de **1.339 registros**. A variável target (`charges`) apresentava **assimetria acentuada**, então apliquei uma **transformação logarítmica** para melhorar a performance do modelo.  \n",
    "\n",
    "No entanto, mesmo após ajustes, o **RMSE ficou em 33,43% do custo médio**, indicando que alguns valores extremos (outliers) ainda impactavam significativamente as previsões.  \n",
    "\n",
    "---\n",
    "\n",
    "### **🔍 Trade-off Enfrentado**  \n",
    "**\"Remover outliers para melhorar as métricas ou mantê-los para preservar casos clinicamente relevantes?\"**  \n",
    "\n",
    "| **Opção**               | **Vantagens**                                     | **Desvantagens**                              |  \n",
    "|-------------------------|---------------------------------------------------|-----------------------------------------------|  \n",
    "| **Remover outliers**    | - Melhora MAE/RMSE artificialmente                | - Perde casos raros, porém importantes (ex: pacientes com custos excepcionais) |  \n",
    "| **Manter outliers**     | - Preserva a integridade dos dados reais          | - Métricas menos otimizadas (RMSE mais alto)  |  \n",
    "\n",
    "#### **Minha Decisão**  \n",
    "Optei por **manter os outliers**, pois:  \n",
    "✅ **Reflete a realidade dos dados**: Custos médicos têm variações extremas (ex: cirurgias complexas vs. consultas simples).  \n",
    "✅ **Evita viés em casos críticos**: Pacientes com custos altos são justamente os que mais precisam de previsão acurada.  \n",
    "✅ **Transparência**: Melhor comunicar um RMSE alto, mas realista, do que métricas \"infladas\" por filtros excessivos.  \n",
    "\n",
    "---\n",
    "\n",
    "### **📊 Resultados e Interpretação**  \n",
    "| **Métrica**       | **Valor**       | **Significado**                                                                 |  \n",
    "|-------------------|-----------------|---------------------------------------------------------------------------------|  \n",
    "| **MAE**           | R$ 1.973,79 (18,05%) | Erro médio \"aceitável\" para o domínio de saúde (valores reais variam muito).    |  \n",
    "| **RMSE**          | R$ 4.335,85 (33,43%) | Indica a presença de outliers, mas **não invalida** o modelo.                   |  \n",
    "| **R²**            | **87,89%**      | Excelente poder explicativo, mesmo com a variação natural dos dados.            |  \n",
    "\n",
    "\n",
    "---\n",
    "\n",
    "### **🎯 Mensagem Final**  \n",
    "**\"Um bom modelo não é só aquele com as melhores métricas, mas o que melhor atende ao problema real.\"**  \n",
    "Neste caso, priorizei **utilidade prática** sobre otimizações numéricas – decisão comum em projetos de saúde, onde dados \"imperfeitos\" muitas vezes carregam os insights mais valiosos.  \n"
   ]
  }
 ],
 "metadata": {
  "kernelspec": {
   "display_name": "base",
   "language": "python",
   "name": "python3"
  },
  "language_info": {
   "codemirror_mode": {
    "name": "ipython",
    "version": 3
   },
   "file_extension": ".py",
   "mimetype": "text/x-python",
   "name": "python",
   "nbconvert_exporter": "python",
   "pygments_lexer": "ipython3",
   "version": "3.12.4"
  }
 },
 "nbformat": 4,
 "nbformat_minor": 5
}
